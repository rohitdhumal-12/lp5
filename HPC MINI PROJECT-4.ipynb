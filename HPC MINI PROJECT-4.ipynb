{
  "nbformat": 4,
  "nbformat_minor": 0,
  "metadata": {
    "colab": {
      "provenance": [],
      "gpuType": "T4"
    },
    "kernelspec": {
      "name": "python3",
      "display_name": "Python 3"
    },
    "language_info": {
      "name": "python"
    },
    "accelerator": "GPU"
  },
  "cells": [
    {
      "cell_type": "code",
      "execution_count": 1,
      "metadata": {
        "colab": {
          "base_uri": "https://localhost:8080/"
        },
        "id": "xIb1pzrIvGH-",
        "outputId": "7931b9de-5ffa-4667-9289-bf79300562a4"
      },
      "outputs": [
        {
          "metadata": {
            "tags": null
          },
          "name": "stdout",
          "output_type": "stream",
          "text": [
            "[   1    1    1    2    4    6    9   15   25   40   64  104  169  273\n",
            "  441  714 1156 1870 3025 4895]\n"
          ]
        }
      ],
      "source": [
        "import cupy as cp\n",
        "\n",
        "# Define the size of DP array\n",
        "N = 10000\n",
        "\n",
        "# Initialize DP array on GPU\n",
        "dp = cp.zeros(N, dtype=cp.int32)\n",
        "\n",
        "# Base cases\n",
        "dp[0] = 1\n",
        "dp[1] = 1\n",
        "dp[2] = 1\n",
        "dp[3] = 2\n",
        "\n",
        "# Sequential loop on GPU with CuPy array\n",
        "for i in range(4, N):\n",
        "    dp[i] = dp[i - 1] + dp[i - 3] + dp[i - 4]\n",
        "\n",
        "# Copy result to CPU and print first few values\n",
        "result = cp.asnumpy(dp)\n",
        "print(result[:20])"
      ]
    },
    {
      "cell_type": "code",
      "source": [],
      "metadata": {
        "id": "I25TMysUvJQK"
      },
      "execution_count": null,
      "outputs": []
    }
  ]
}